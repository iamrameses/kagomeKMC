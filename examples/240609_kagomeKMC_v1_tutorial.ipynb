{
 "cells": [
  {
   "cell_type": "code",
   "execution_count": null,
   "metadata": {},
   "outputs": [],
   "source": [
    "import cupy as cp\n",
    "import matplotlib.animation as animation\n",
    "import matplotlib.pyplot as plt\n",
    "from numba.core.errors import NumbaPerformanceWarning\n",
    "import numpy as np\n",
    "import os\n",
    "import pickle\n",
    "import sys\n",
    "import warnings\n",
    "warnings.simplefilter('ignore', category=NumbaPerformanceWarning)\n",
    "os.environ['CUPY_ACCELERATORS'] = 'cub,cutensor'\n",
    "\n",
    "sys.path.append('..')\n",
    "from src import *\n",
    "\n",
    "# Use `ipympl` for VS Code and `inline` for Jupyter/Jupyterlab\n",
    "%matplotlib ipympl"
   ]
  },
  {
   "cell_type": "markdown",
   "metadata": {},
   "source": [
    "The lattice constant for the triangular lattice potential we use is much larger than that of the graphene lattice, so we first need to determine the ideal box width that will simultaneously satisfy periodic boundary conditions for both. The `ideal_boxwidth()` function compares the two lattices and various box sizes up to the `target_width` and returns the box widths in the order of the smallest to the largest error. For the best simulation accuracy, it is ideal to use a box width that is zero or as close to zero as possible."
   ]
  },
  {
   "cell_type": "code",
   "execution_count": null,
   "metadata": {},
   "outputs": [],
   "source": [
    "ideal_boxwidths(tri_lc=3.936, kag_lc=0.246, target_width=300, show_topn=5) "
   ]
  },
  {
   "cell_type": "markdown",
   "metadata": {},
   "source": [
    "With this we can choose the boxwidth with a low comparison error that is large enough for our needs. The left subplot below shows the molecules overlayed on top of the triangular lattice energy surface. The right subplot shows the Voronoi plot of each molecule with its nearest-neighboring molecules as a number of disclinations, which is one of many potentially useful indicators of phase."
   ]
  },
  {
   "cell_type": "code",
   "execution_count": null,
   "metadata": {},
   "outputs": [],
   "source": [
    "boxwidth    = 102.336  # Simulation box width in nanometers\n",
    "n_molecules = 800      # Number of molecules to generate #400, 800, 1200, 1600, 2000\n",
    "threshold   = 10       # Minimum distance (in lattice constants) between initial molecule positions #17, 12, 9, 8, 7\n",
    "\n",
    "# Define the Kagome lattice object for the simulation (all its parameters are shown here)\n",
    "# Note that the data types defined here are used for the entire simulation\n",
    "kagome = KagomeLattice(\n",
    "    boxwidth=boxwidth, \n",
    "    lattice_constant=0.246, \n",
    "    energy_barrier=275.0, \n",
    "    debye_freq=10e10, \n",
    "    transition_type='t', \n",
    "    intdtype='int32', \n",
    "    floatdtype='float64'\n",
    ")\n",
    "\n",
    "# The \".get_latticesites()\" method to get the array of all lattice sites xy-coordinates\n",
    "# An array of position indices can also be passed to get the xy-coordinates of specific lattice sites\n",
    "lxy = kagome.get_latticesites(site_numbers=None)\n",
    "\n",
    "# The \".get_sitennids()\" method retrieves the array of all nearest neighbor indices for each lattice site\n",
    "lnnids = kagome.get_sitennids(site_numbers=cp.arange(lxy.shape[0], dtype=kagome._idtype))\n",
    "\n",
    "# The \".generate_randomids()\" method generates random molecule positions on the lattice\n",
    "if n_molecules > 0: \n",
    "    mids = kagome.generate_randomids(\n",
    "        n_molecules=n_molecules, \n",
    "        sites=lxy, \n",
    "        n_attempts=1000, \n",
    "        threshold=threshold\n",
    "    )\n",
    "\n",
    "# The TriangularLatticeEnergies object is used to compute the triangular lattice energy surface\n",
    "# The \".U(x,y)\" method computes the energy at a given (x,y) position or array of positions\n",
    "tle = TriangularLatticeEnergies(lattice_constant=3.936, amplitude=39.8, angle=0., shift=[0., 0.])\n",
    "\n",
    "# Compute packing fraction density (for comparison, experiment e8_217.csv was: 0.037308)\n",
    "xdim, ydim = kagome.boxsize\n",
    "rho = (n_molecules*np.pi*0.48*0.87) / (2*xdim*ydim)\n",
    "print(f\"System box dimensions (nm): ({kagome.boxsize[0]:.4f}, {kagome.boxsize[1]:.4f})\")\n",
    "print(f\"Number of Kagome unit cells (columns, rows): {kagome.n_unitcells}\")\n",
    "print(f\"Number of total Kagome lattice sites: {kagome._n_totalsites}\")\n",
    "print(f\"Packing fraction density: {rho}\")\n",
    "\n",
    "# The \"plotter.py\" module contains some functions to plot the triangular lattice energies, lattice sites, bonds, and molecules\n",
    "fig, axs = plt.subplots(1, 2, figsize=(25, 11*figsize_yscale(kagome)), layout='constrained', dpi=72)\n",
    "fig.canvas.resizable = False\n",
    "# Plot the lattice energy surface\n",
    "axs[0] = plot_latticeenergies(axs[0], tle, kagome.boxsize, nsamples=1000, cmap='viridis', alpha=0.75, zorder=1)\n",
    "if boxwidth <= 10:\n",
    "    # Plot the graphene lattice bonds\n",
    "    axs[0] = plot_graphenebonds(axs[0], kagome, colors='b', lw=0.5, ls='--', alpha=0.25, zorder=2)\n",
    "    # Plot the Kagome lattice sites\n",
    "    axs[0] = plot_kagomesites(axs[0], kagome, s=18, c='k', ec='k', alpha=0.3, zorder=3)\n",
    "if n_molecules > 0:\n",
    "    # Plot the molecules\n",
    "    axs[0] = plot_molecules(axs[0], lxy[lnnids[mids]].get(), show_nn=False, s=35, lw=1.0, mc='tab:red')\n",
    "# Plot the hexagonal order parameter\n",
    "fig, axs[1] = plot_disclinations(fig, axs[1], kagome, lxy[mids].get())\n",
    "for i in range(2):\n",
    "    axs[i].set(xlim=kagome.xlim, ylim=kagome.ylim)\n",
    "    axs[i].set_xlabel('x (nm)', fontsize=14)\n",
    "    axs[i].set_ylabel('y (nm)', fontsize=14)\n",
    "plt.show()"
   ]
  },
  {
   "cell_type": "markdown",
   "metadata": {},
   "source": [
    "### Simulation"
   ]
  },
  {
   "cell_type": "markdown",
   "metadata": {},
   "source": [
    "Below is the code to start an actual simulation run. The previous lattice object `kagome` is passed to the `simulate()` function, in addition to the previously defined `n_molecules` and `threshold` parameters."
   ]
  },
  {
   "cell_type": "code",
   "execution_count": null,
   "metadata": {},
   "outputs": [],
   "source": [
    "# Save path for the pickle file containing the simulation data\n",
    "save_path = '../data/simdata.pkl'\n",
    "\n",
    "duration          = 0.001   # Duration of the simulation in seconds\n",
    "frames_per_kelvin = 30      # Number of frames to sample per temperature change in Kelvin\n",
    "nwarmupsteps      = 100000  # Number of warm-up steps to take before the simulation starts\n",
    "progress_freq     = 250000  # Frequency of the progress output in KMC steps\n",
    "max_dt            = 60      # Maximum time step interval threshold in seconds\n",
    "\n",
    "# Energy parameters for the simulation\n",
    "energy_params = {\n",
    "    'lattice':'none',  # Lattice energy can either be 'triangular' or 'none'\n",
    "    'lattice_params':{\n",
    "        'lattice_constant':3.936,  # Lattice constant of the triangular lattice (nm)\n",
    "        'amplitude':39.8,          # Amplitude of the triangular lattice energy (meV)\n",
    "        'angle':0.0,               # Angle of the triangular lattice (degrees)\n",
    "        'shift':[0.0, 0.0]         # Shift of the triangular lattice (nm)\n",
    "    },\n",
    "    'interaction':'total_impurity',  # Interaction energy parameters\n",
    "    'interaction_params':{\n",
    "        'Zval':1.0,  # Impurity charge value\n",
    "        'epsr':4.22  # Dielectric constant of the medium \n",
    "    }\n",
    "}\n",
    "\n",
    "# Temperature parameters for the simulation\n",
    "temperature_params = {\n",
    "    'temp_initial':30,  # Initial temperature of the simulation (K)\n",
    "    'temp_final':8.5,   # Final temperature of the simulation (K)\n",
    "    'method':'linear'   # Cooling method can be 'linear', 'exponential', or 'inv_exponential'\n",
    "}\n",
    "\n",
    "# Molecule parameters for the simulation\n",
    "molecule_params = {\n",
    "    'n_molecules':n_molecules,  # Number of molecules to generate\n",
    "    'threshold':threshold,      # Minimum distance (in lattice constants) between initial molecule positions\n",
    "}"
   ]
  },
  {
   "cell_type": "code",
   "execution_count": null,
   "metadata": {},
   "outputs": [],
   "source": [
    "# Uncomment this cell to run a new simulation and save the data\n",
    "# The `simulate()` function is used to run the simulation and return the simulation data as a dictionary\n",
    "simdata = simulate(kagome, energy_params, temperature_params, molecule_params, duration, frames_per_kelvin=frames_per_kelvin, nwarmupsteps=nwarmupsteps, progress_freq=progress_freq, max_dt=max_dt)\n",
    "\n",
    "# Save the simulation data\n",
    "with open(save_path, 'wb') as f:\n",
    "    pickle.dump(simdata, f)"
   ]
  },
  {
   "cell_type": "markdown",
   "metadata": {},
   "source": [
    "### Load saved data"
   ]
  },
  {
   "cell_type": "code",
   "execution_count": null,
   "metadata": {},
   "outputs": [],
   "source": [
    "# # Uncomment this cell to load previous simulation data\n",
    "# with open(save_path, 'rb') as f:\n",
    "#     simdata = pickle.load(f)"
   ]
  },
  {
   "cell_type": "markdown",
   "metadata": {},
   "source": [
    "We can see all of the keys contained in `simdata` and an example of some of the data. We can also see that this output also contains all the parameters you need to recreate the simulation if you wanted to."
   ]
  },
  {
   "cell_type": "code",
   "execution_count": null,
   "metadata": {},
   "outputs": [],
   "source": [
    "print(simdata.keys())\n",
    "print(f'\\ntimes (in seconds): {simdata[\"times\"].shape}\\n{simdata[\"times\"][-10:]}\\n')\n",
    "print(f'temperatures (in Kelvin): {simdata[\"temperatures\"].shape}\\n{simdata[\"temperatures\"][-10:]}\\n')\n",
    "print(f'ids: {simdata[\"ids\"].shape}\\n{simdata[\"ids\"][0,-10:]}')"
   ]
  },
  {
   "cell_type": "markdown",
   "metadata": {},
   "source": [
    "We can also visualize the simulation and save the animation to a `.gif` file."
   ]
  },
  {
   "cell_type": "code",
   "execution_count": null,
   "metadata": {},
   "outputs": [],
   "source": [
    "ani = animate_simulation(simdata, save_filepath=save_path[:-4]+'.gif', frameskip=5, interval=33, repeat=True, figsize=(28, 10))  #save_path[:-4]+'.gif'"
   ]
  }
 ],
 "metadata": {
  "kernelspec": {
   "display_name": "kagomekmc",
   "language": "python",
   "name": "python3"
  },
  "language_info": {
   "codemirror_mode": {
    "name": "ipython",
    "version": 3
   },
   "file_extension": ".py",
   "mimetype": "text/x-python",
   "name": "python",
   "nbconvert_exporter": "python",
   "pygments_lexer": "ipython3",
   "version": "3.11.9"
  }
 },
 "nbformat": 4,
 "nbformat_minor": 2
}
